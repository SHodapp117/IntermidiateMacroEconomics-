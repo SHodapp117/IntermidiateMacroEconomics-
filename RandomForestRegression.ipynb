{
  "nbformat": 4,
  "nbformat_minor": 0,
  "metadata": {
    "colab": {
      "name": "RandomForestRegression.ipynb",
      "provenance": [],
      "collapsed_sections": [],
      "mount_file_id": "146m1owQBSC0lUWqQCOHQKwIEBah6aFPM",
      "authorship_tag": "ABX9TyN0BalrDlE2DMUS0hBj8brj",
      "include_colab_link": true
    },
    "kernelspec": {
      "name": "python3",
      "display_name": "Python 3"
    }
  },
  "cells": [
    {
      "cell_type": "markdown",
      "metadata": {
        "id": "view-in-github",
        "colab_type": "text"
      },
      "source": [
        "<a href=\"https://colab.research.google.com/github/SHodapp117/IntermidiateMacroEconomics-/blob/main/RandomForestRegression.ipynb\" target=\"_parent\"><img src=\"https://colab.research.google.com/assets/colab-badge.svg\" alt=\"Open In Colab\"/></a>"
      ]
    },
    {
      "cell_type": "code",
      "metadata": {
        "id": "7YShexXkRLU9"
      },
      "source": [
        "# Random Forest Regression\r\n",
        "\r\n",
        "# Importing the libraries\r\n",
        "import numpy as np\r\n",
        "import matplotlib.pyplot as plt\r\n",
        "import pandas as pd\r\n",
        "\r\n",
        "# Importing the dataset\r\n",
        "dataset = pd.read_csv('/content/drive/MyDrive/Machine Learning A-Z Code/Part 2 - Regression/Section 9 - Random Forest Regression/Python/Position_Salaries.csv')\r\n",
        "X = dataset.iloc[:, 1:-1].values\r\n",
        "y = dataset.iloc[:, -1].values"
      ],
      "execution_count": 1,
      "outputs": []
    },
    {
      "cell_type": "code",
      "metadata": {
        "id": "H8NV7Ar8SrLq",
        "colab": {
          "base_uri": "https://localhost:8080/"
        },
        "outputId": "22a5c066-363b-4c89-c782-d571719b8952"
      },
      "source": [
        "#Trainning the model\r\n",
        "from sklearn.ensemble import RandomForestRegressor\r\n",
        "regressor = RandomForestRegressor(n_estimators = 10, random_state = 0)\r\n",
        "regressor.fit(X,y)\r\n"
      ],
      "execution_count": 3,
      "outputs": [
        {
          "output_type": "execute_result",
          "data": {
            "text/plain": [
              "RandomForestRegressor(bootstrap=True, ccp_alpha=0.0, criterion='mse',\n",
              "                      max_depth=None, max_features='auto', max_leaf_nodes=None,\n",
              "                      max_samples=None, min_impurity_decrease=0.0,\n",
              "                      min_impurity_split=None, min_samples_leaf=1,\n",
              "                      min_samples_split=2, min_weight_fraction_leaf=0.0,\n",
              "                      n_estimators=10, n_jobs=None, oob_score=False,\n",
              "                      random_state=0, verbose=0, warm_start=False)"
            ]
          },
          "metadata": {
            "tags": []
          },
          "execution_count": 3
        }
      ]
    },
    {
      "cell_type": "code",
      "metadata": {
        "colab": {
          "base_uri": "https://localhost:8080/"
        },
        "id": "KT884jYS7_Ux",
        "outputId": "6aaa76f1-8013-4848-cc01-4251039f47d6"
      },
      "source": [
        "#New predictions\r\n",
        "regressor.predict([[6.5]])"
      ],
      "execution_count": 4,
      "outputs": [
        {
          "output_type": "execute_result",
          "data": {
            "text/plain": [
              "array([167000.])"
            ]
          },
          "metadata": {
            "tags": []
          },
          "execution_count": 4
        }
      ]
    },
    {
      "cell_type": "code",
      "metadata": {
        "colab": {
          "base_uri": "https://localhost:8080/",
          "height": 295
        },
        "id": "1kMjNioM8LdI",
        "outputId": "9d580e70-9111-47ab-acde-e3cb981c69c4"
      },
      "source": [
        "#Bob Ross Time!\r\n",
        "X_grid = np.arange(min(X),max(X), 0.01)\r\n",
        "X_grid = X_grid.reshape((len(X_grid),1))\r\n",
        "plt.scatter(X,y,color = 'red')\r\n",
        "plt.plot(X_grid, regressor.predict(X_grid), color='blue')\r\n",
        "plt.title('XYZ Corp Compensation (Random Forest)')\r\n",
        "plt.xlabel('Position level in company ')\r\n",
        "plt.ylabel('Salary')\r\n",
        "plt.show()"
      ],
      "execution_count": 7,
      "outputs": [
        {
          "output_type": "display_data",
          "data": {
            "image/png": "[encoded data removed]",
            "text/plain": [
              "<Figure size 432x288 with 1 Axes>"
            ]
          },
          "metadata": {
            "tags": [],
            "needs_background": "light"
          }
        }
      ]
    }
  ]
}